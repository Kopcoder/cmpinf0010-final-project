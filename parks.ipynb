{
 "cells": [
  {
   "cell_type": "code",
   "execution_count": 15,
   "id": "formal-premiere",
   "metadata": {},
   "outputs": [],
   "source": [
    "import pandas as pd\n",
    "import numpy as  np\n",
    "import matplotlib as mpl\n",
    "import matplotlib.pyplot as plt"
   ]
  },
  {
   "cell_type": "code",
   "execution_count": 16,
   "id": "known-disorder",
   "metadata": {},
   "outputs": [],
   "source": [
    "parkData = pd.read_csv(\"https://data.wprdc.org/datastore/dump/6af89346-b971-41d5-af09-49cfdb4dfe23\")"
   ]
  },
  {
   "cell_type": "code",
   "execution_count": 17,
   "id": "extra-desire",
   "metadata": {},
   "outputs": [],
   "source": [
    "parkCounter = dict()"
   ]
  },
  {
   "cell_type": "code",
   "execution_count": 18,
   "id": "insured-sympathy",
   "metadata": {},
   "outputs": [],
   "source": [
    "for row in parkData.index:\n",
    "    park = parkData.iloc[row, 11]\n",
    "    if park not in parkCounter:\n",
    "        parkCounter[park] = 1\n",
    "    else:\n",
    "        parkCounter[park] = parkCounter[park] + 1"
   ]
  },
  {
   "cell_type": "code",
   "execution_count": 31,
   "id": "paperback-average",
   "metadata": {},
   "outputs": [],
   "source": [
    "##keys = parkCounter.keys()\n",
    "##values = parkCounter.values()"
   ]
  },
  {
   "cell_type": "code",
   "execution_count": 32,
   "id": "sublime-terminal",
   "metadata": {},
   "outputs": [],
   "source": [
    "##f, ax = plt.subplots(figsize=(110,5))\n",
    "##mpl.pyplot.bar(keys, values)"
   ]
  },
  {
   "cell_type": "code",
   "execution_count": 20,
   "id": "hundred-bulgaria",
   "metadata": {},
   "outputs": [
    {
     "name": "stdout",
     "output_type": "stream",
     "text": [
      "Brighton Heights had the most parks with 7\n"
     ]
    }
   ],
   "source": [
    "maxEntry = 0\n",
    "indexNeighborhood = 0\n",
    "for entry in parkCounter:\n",
    "    if parkCounter[entry] > maxEntry:\n",
    "        maxEntry = parkCounter[entry]\n",
    "        indexNeighborhood = entry\n",
    "print(indexNeighborhood + \" had the most parks with \" + str(maxEntry))"
   ]
  },
  {
   "cell_type": "code",
   "execution_count": 28,
   "id": "gross-bishop",
   "metadata": {},
   "outputs": [],
   "source": [
    "##insertion sort\n",
    "parkKeys = list(parkCounter.keys())\n",
    "parkValues = list(parkCounter.values())\n",
    "parkSorted = [parkValues[0]]\n",
    "keysSorted = [parkKeys[0]]\n",
    "for i in range(len(parkKeys)):\n",
    "    min_idx = i\n",
    "    for j in range(i+1, len(parkKeys)):\n",
    "        if parkValues[min_idx] > parkValues[j]:\n",
    "            min_idx = j\n",
    "              \n",
    "    # Swap the found minimum element with \n",
    "    # the first element        \n",
    "    parkValues[i], parkValues[min_idx] = parkValues[min_idx], parkValues[i]\n",
    "    parkKeys[i], parkKeys[min_idx] = parkKeys[min_idx], parkKeys[i]"
   ]
  },
  {
   "cell_type": "code",
   "execution_count": 30,
   "id": "official-phase",
   "metadata": {},
   "outputs": [],
   "source": [
    "topKeys = parkKeys[-10:]\n",
    "topValues = parkValues[-10:]"
   ]
  },
  {
   "cell_type": "code",
   "execution_count": 34,
   "id": "cardiovascular-project",
   "metadata": {},
   "outputs": [
    {
     "data": {
      "text/plain": [
       "<BarContainer object of 10 artists>"
      ]
     },
     "execution_count": 34,
     "metadata": {},
     "output_type": "execute_result"
    },
    {
     "data": {
      "image/png": "[encoded data removed]",
      "text/plain": [
       "<Figure size 1440x360 with 1 Axes>"
      ]
     },
     "metadata": {
      "needs_background": "light"
     },
     "output_type": "display_data"
    }
   ],
   "source": [
    "f, ax = plt.subplots(figsize=(20,5))\n",
    "mpl.pyplot.bar(topKeys, topValues)"
   ]
  },
  {
   "cell_type": "code",
   "execution_count": null,
   "id": "different-aquatic",
   "metadata": {},
   "outputs": [],
   "source": []
  }
 ],
 "metadata": {
  "kernelspec": {
   "display_name": "Python 3",
   "language": "python",
   "name": "python3"
  },
  "language_info": {
   "codemirror_mode": {
    "name": "ipython",
    "version": 3
   },
   "file_extension": ".py",
   "mimetype": "text/x-python",
   "name": "python",
   "nbconvert_exporter": "python",
   "pygments_lexer": "ipython3",
   "version": "3.8.5"
  }
 },
 "nbformat": 4,
 "nbformat_minor": 5
}
